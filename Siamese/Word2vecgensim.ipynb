{
  "nbformat": 4,
  "nbformat_minor": 0,
  "metadata": {
    "colab": {
      "name": "Word2vecgensim.ipynb",
      "provenance": [],
      "collapsed_sections": []
    },
    "kernelspec": {
      "name": "python3",
      "display_name": "Python 3"
    }
  },
  "cells": [
    {
      "cell_type": "code",
      "metadata": {
        "id": "CmkLg70Iney7"
      },
      "source": [
        "import pandas as pd\n",
        "import numpy as np\n",
        "import re\n",
        "import nltk\n",
        "import matplotlib.pyplot as plt"
      ],
      "execution_count": null,
      "outputs": []
    },
    {
      "cell_type": "code",
      "metadata": {
        "colab": {
          "base_uri": "https://localhost:8080/"
        },
        "id": "hRS1V9B5Avrq",
        "outputId": "b176944f-d4fc-4b62-cc9d-d5625514f12a"
      },
      "source": [
        "nltk.download('stopwords')\n",
        "nltk.download('gutenberg')\n",
        "nltk.download('punkt')"
      ],
      "execution_count": null,
      "outputs": [
        {
          "output_type": "stream",
          "text": [
            "[nltk_data] Downloading package stopwords to /root/nltk_data...\n",
            "[nltk_data]   Package stopwords is already up-to-date!\n",
            "[nltk_data] Downloading package gutenberg to /root/nltk_data...\n",
            "[nltk_data]   Package gutenberg is already up-to-date!\n",
            "[nltk_data] Downloading package punkt to /root/nltk_data...\n",
            "[nltk_data]   Package punkt is already up-to-date!\n"
          ],
          "name": "stdout"
        },
        {
          "output_type": "execute_result",
          "data": {
            "text/plain": [
              "True"
            ]
          },
          "metadata": {
            "tags": []
          },
          "execution_count": 47
        }
      ]
    },
    {
      "cell_type": "code",
      "metadata": {
        "id": "pkQi2PotnpFZ"
      },
      "source": [
        "pd.options.display.max_colwidth = 200\n",
        "%matplotlib inline"
      ],
      "execution_count": null,
      "outputs": []
    },
    {
      "cell_type": "code",
      "metadata": {
        "id": "pgcsg8N5nrQs"
      },
      "source": [
        "# You may load this given csv, or you may change this line to load some other csv\n",
        "df = pd.read_csv('https://raw.githubusercontent.com/amey-kulkarni27/Datasets/main/images.csv')"
      ],
      "execution_count": null,
      "outputs": []
    },
    {
      "cell_type": "markdown",
      "metadata": {
        "id": "OJQgFmPf_0W9"
      },
      "source": [
        "## Visualising the Data"
      ]
    },
    {
      "cell_type": "code",
      "metadata": {
        "id": "meVPvnxjAMqM"
      },
      "source": [
        "text_sr = df.iloc[:, 1]"
      ],
      "execution_count": null,
      "outputs": []
    },
    {
      "cell_type": "code",
      "metadata": {
        "colab": {
          "base_uri": "https://localhost:8080/"
        },
        "id": "rHmnFo-UVReZ",
        "outputId": "83068a18-fc83-47fe-c85c-ed7b2717f941"
      },
      "source": [
        "for x in text_sr.iloc[:5]:\n",
        "  print(x.split())"
      ],
      "execution_count": null,
      "outputs": [
        {
          "output_type": "stream",
          "text": [
            "['Nayo', 'Women', 'Orange', '&', 'Off-White', 'Striped', 'Straight', 'Kurta']\n",
            "['Jaipur', 'Kurti', 'Women', 'Navy', 'Blue', 'Yoke', 'Design', 'Kurta', 'with', 'Trousers']\n",
            "['AHIKA', 'Women', 'Green', '&', 'Off-White', 'Printed', 'Straight', 'Kurta']\n",
            "['ADA', 'Women', 'Yellow', '&', 'White', 'Chikankari', 'Hand', 'Embroidered', 'Semi-Sheer', 'Straight', 'Kurta']\n",
            "['Soch', 'Women', 'Navy', 'Blue', '&', 'Grey', 'Dyed', 'Straight', 'Kurta']\n"
          ],
          "name": "stdout"
        }
      ]
    },
    {
      "cell_type": "code",
      "metadata": {
        "colab": {
          "base_uri": "https://localhost:8080/"
        },
        "id": "0F7_8rqERTbd",
        "outputId": "88ccd913-0cf5-438c-f044-80d892964d5d"
      },
      "source": [
        "text_sr.head()"
      ],
      "execution_count": null,
      "outputs": [
        {
          "output_type": "execute_result",
          "data": {
            "text/plain": [
              "0                              Nayo Women Orange & Off-White Striped Straight Kurta\n",
              "1                      Jaipur Kurti Women Navy Blue Yoke Design Kurta with Trousers\n",
              "2                              AHIKA Women Green & Off-White Printed Straight Kurta\n",
              "3    ADA Women Yellow & White Chikankari Hand Embroidered Semi-Sheer Straight Kurta\n",
              "4                                   Soch Women Navy Blue & Grey Dyed Straight Kurta\n",
              "Name: description, dtype: object"
            ]
          },
          "metadata": {
            "tags": []
          },
          "execution_count": 52
        }
      ]
    },
    {
      "cell_type": "markdown",
      "metadata": {
        "id": "a4B_tFPD_5cc"
      },
      "source": [
        "## Using the Natural Language Tool-Kit\n",
        "We perform some text processing such as converting to lower case, removing stopwords, etc.\n"
      ]
    },
    {
      "cell_type": "code",
      "metadata": {
        "id": "lmHIunB8uIWi"
      },
      "source": [
        "wpt = nltk.WordPunctTokenizer()\n",
        "stop_words = nltk.corpus.stopwords.words('english')"
      ],
      "execution_count": null,
      "outputs": []
    },
    {
      "cell_type": "code",
      "metadata": {
        "id": "k8tmof_Y_wY2"
      },
      "source": [
        "def normalize_document(doc):\n",
        "    # lower case and remove special characters\\whitespaces\n",
        "    doc = re.sub(r'[^a-zA-Z\\s]', '', doc, re.I|re.A)\n",
        "    doc = doc.lower()\n",
        "    doc = doc.strip()\n",
        "    # tokenize document\n",
        "    tokens = wpt.tokenize(doc)\n",
        "    # filter stopwords out of document\n",
        "    filtered_tokens = [token for token in tokens if token not in stop_words]\n",
        "    # re-create document from filtered tokens\n",
        "    doc = ' '.join(filtered_tokens)\n",
        "    return doc"
      ],
      "execution_count": null,
      "outputs": []
    },
    {
      "cell_type": "code",
      "metadata": {
        "id": "dy07g8Bf_zXC"
      },
      "source": [
        "normalize_corpus = np.vectorize(normalize_document)"
      ],
      "execution_count": null,
      "outputs": []
    },
    {
      "cell_type": "markdown",
      "metadata": {
        "id": "9gOXxjucAjax"
      },
      "source": [
        "### Removing Numbers and Punctuation"
      ]
    },
    {
      "cell_type": "code",
      "metadata": {
        "id": "zS1hiVZr_2sy"
      },
      "source": [
        "from string import punctuation\n",
        "\n",
        "remove_terms = punctuation + '0123456789'"
      ],
      "execution_count": null,
      "outputs": []
    },
    {
      "cell_type": "markdown",
      "metadata": {
        "id": "D6p8WwuhAqSU"
      },
      "source": [
        "## Text after preprocess steps are done"
      ]
    },
    {
      "cell_type": "code",
      "metadata": {
        "colab": {
          "base_uri": "https://localhost:8080/"
        },
        "id": "-lUm94-IA_Np",
        "outputId": "65a6e6c4-7317-438e-f5da-4612391d7c0d"
      },
      "source": [
        "# norm_text = [word.lower() for word in text_sr if word not in remove_terms]\n",
        "norm_text = [[word.lower() for word in row.split() if word not in remove_terms] for row in text_sr]\n",
        "norm_text = [' '.join(tok_sent) for tok_sent in norm_text]\n",
        "filter_obj = filter(None, normalize_corpus(norm_text))\n",
        "norm_text = [tok_sent for tok_sent in filter_obj if len(tok_sent.split()) > 2]\n",
        "print(norm_text[:20])\n",
        "\n",
        "print('Total lines:', len(text_sr.index))\n",
        "print('\\nSample line:', text_sr[0])\n",
        "print('\\nProcessed line:', norm_text[0])"
      ],
      "execution_count": null,
      "outputs": [
        {
          "output_type": "stream",
          "text": [
            "['nayo women orange offwhite striped straight kurta', 'jaipur kurti women navy blue yoke design kurta trousers', 'ahika women green offwhite printed straight kurta', 'ada women yellow white chikankari hand embroidered semisheer straight kurta', 'soch women navy blue grey dyed straight kurta', 'soch women black yoke design aline kurta', 'ahika women maroon beige printed straight kurta', 'w women navy blue silver embroidered straight kurta', 'soch women navy blue goldcoloured printed straight kurta', 'herenow women navy yoke design aline kurta', 'aayna women beige self design kurta trousers', 'soch women lime green offwhite woven design straight kurta', 'yash gallery women black printed aline kurta', 'w women teal green solid straight kurta', 'global desi women teal blue red printed straight kurta', 'soch women offwhite blue printed aline kurta', 'indo era women beige pink yoke design kurta palazzos dupatta', 'ahika women sea green white printed straight kurta', 'indo era women navy blue offwhite printed aline kurta', 'yuris women yellow red bandhani printed straight kurta']\n",
            "Total lines: 12305\n",
            "\n",
            "Sample line: Nayo Women Orange & Off-White Striped Straight Kurta\n",
            "\n",
            "Processed line: nayo women orange offwhite striped straight kurta\n"
          ],
          "name": "stdout"
        }
      ]
    },
    {
      "cell_type": "code",
      "metadata": {
        "id": "xnlJPuuBv4W2"
      },
      "source": [
        "embedding_dim = 512"
      ],
      "execution_count": null,
      "outputs": []
    },
    {
      "cell_type": "markdown",
      "metadata": {
        "id": "rV34GzSnAz_D"
      },
      "source": [
        "## Word2Vec Gensim Model"
      ]
    },
    {
      "cell_type": "code",
      "metadata": {
        "id": "vENEoJK1kCUa"
      },
      "source": [
        "from gensim.models import word2vec\n",
        "\n",
        "# tokenize sentences in corpus\n",
        "wpt = nltk.WordPunctTokenizer()\n",
        "tokenized_corpus = [wpt.tokenize(document) for document in norm_text]\n",
        "\n",
        "# Set values for various parameters\n",
        "feature_size = embedding_dim    # Word vector dimensionality  \n",
        "window_context = 10          # Context window size                                                                                    \n",
        "min_word_count = 1   # Minimum word count                        \n",
        "sample = 1e-3   # Downsample setting for frequent words\n",
        "\n",
        "w2v_model = word2vec.Word2Vec(tokenized_corpus, size=feature_size, \n",
        "                          window=window_context, min_count=min_word_count,\n",
        "                          sample=sample, iter=50)"
      ],
      "execution_count": null,
      "outputs": []
    },
    {
      "cell_type": "code",
      "metadata": {
        "colab": {
          "base_uri": "https://localhost:8080/"
        },
        "id": "M_8GeC4jqRDL",
        "outputId": "141bba71-1c1e-4041-e07d-9f6c1742ea36"
      },
      "source": [
        "# view similar words based on gensim's model\n",
        "similar_words = {search_term: [item[0] for item in w2v_model.wv.most_similar([search_term], topn=5)]\n",
        "                  for search_term in ['men', 'women', 'saree', 'kurta', 'blue', 'trousers']}\n",
        "similar_words"
      ],
      "execution_count": null,
      "outputs": [
        {
          "output_type": "execute_result",
          "data": {
            "text/plain": [
              "{'blue': ['maroon', 'red', 'multicoloured', 'pink', 'purple'],\n",
              " 'kurta': ['anouk', 'kurti', 'jompers', 'sojanya', 'libas'],\n",
              " 'men': ['super', 'sport', 'reversible', 'short', 'nsw'],\n",
              " 'saree': ['classicate', 'chanderi', 'silk', 'blissta', 'gosriki'],\n",
              " 'trousers': ['palazzos', 'churidar', 'anarkali', 'skirt', 'sharara'],\n",
              " 'women': ['layered', 'tiered', 'detail', 'stole', 'layer']}"
            ]
          },
          "metadata": {
            "tags": []
          },
          "execution_count": 70
        }
      ]
    },
    {
      "cell_type": "markdown",
      "metadata": {
        "id": "JWNT5XXpA_qL"
      },
      "source": [
        "## TSNE plot of some words"
      ]
    },
    {
      "cell_type": "code",
      "metadata": {
        "colab": {
          "base_uri": "https://localhost:8080/",
          "height": 483
        },
        "id": "3W1lx5dsrI50",
        "outputId": "a704fba8-215f-4fdc-b89c-dff64d1e523e"
      },
      "source": [
        "from sklearn.manifold import TSNE\n",
        "\n",
        "words = sum([[k] + v for k, v in similar_words.items()], [])\n",
        "wvs = w2v_model.wv[words]\n",
        "\n",
        "tsne = TSNE(n_components=2, random_state=0, n_iter=10000, perplexity=2)\n",
        "np.set_printoptions(suppress=True)\n",
        "T = tsne.fit_transform(wvs)\n",
        "labels = words\n",
        "\n",
        "plt.figure(figsize=(14, 8))\n",
        "plt.scatter(T[:, 0], T[:, 1], c='orange', edgecolors='r')\n",
        "for label, x, y in zip(labels, T[:, 0], T[:, 1]):\n",
        "    plt.annotate(label, xy=(x+1, y+1), xytext=(0, 0), textcoords='offset points')"
      ],
      "execution_count": null,
      "outputs": [
        {
          "output_type": "display_data",
          "data": {
            "image/png": "[encoded data removed]",
            "text/plain": [
              "<Figure size 1008x576 with 1 Axes>"
            ]
          },
          "metadata": {
            "tags": [],
            "needs_background": "light"
          }
        }
      ]
    },
    {
      "cell_type": "code",
      "metadata": {
        "colab": {
          "base_uri": "https://localhost:8080/"
        },
        "id": "q6SBsH2tsxAV",
        "outputId": "c7573346-0e6f-49d9-ff1a-e8f6ac0c031e"
      },
      "source": [
        "# Weights vector for the word \"women\"\n",
        "(w2v_model.wv['women'])"
      ],
      "execution_count": null,
      "outputs": [
        {
          "output_type": "execute_result",
          "data": {
            "text/plain": [
              "array([ 0.06487487, -0.21439433,  0.8371537 , -0.1267367 , -0.30280304,\n",
              "       -0.3895257 ,  0.07759346, -0.19189307,  0.53699815,  0.23650353,\n",
              "        0.9073476 , -0.44629586, -0.01102705,  0.05333566, -0.28294244,\n",
              "        0.832696  , -0.14178604, -0.6496142 , -0.05357682,  0.5623325 ,\n",
              "       -0.46982738,  0.9268761 ,  0.11124688, -0.48573908, -0.68636864,\n",
              "        0.11378065, -0.7742986 , -0.8808748 , -0.94703907,  0.25060987,\n",
              "       -0.8668714 ,  0.00641473, -0.35821468, -0.19851819,  0.46499127,\n",
              "       -0.10297149, -0.39533988, -0.03515496, -0.2136224 , -0.4786116 ,\n",
              "        0.8605316 ,  0.38794106, -0.13082522,  0.0089696 , -0.290847  ,\n",
              "        0.8134691 , -0.16980027,  0.30322313, -0.4375453 , -0.7001477 ,\n",
              "        0.1584059 ,  0.27784786, -0.80306387,  0.35443905, -0.1816355 ,\n",
              "        0.3663004 ,  0.36935297,  0.29328904, -0.06318628,  0.05841354,\n",
              "        0.15126164,  0.49628162,  0.34300095,  0.13262367, -0.08328082,\n",
              "       -0.54094166, -0.64495385, -0.17246765, -0.59215134, -0.44370398,\n",
              "       -1.1344699 ,  0.7109355 , -0.59916675, -0.32976294, -0.2921285 ,\n",
              "       -0.39839822,  0.02667924,  0.21570799, -0.81481165, -0.6599674 ,\n",
              "        0.46492967, -0.7751808 , -0.8062161 ,  0.4520535 ,  0.59390444,\n",
              "        0.2457154 ,  0.56023973, -0.18583836, -0.09487688, -0.6583831 ,\n",
              "       -0.34675655, -0.42498785,  0.34086165, -0.49790898, -0.356938  ,\n",
              "        0.6480014 , -0.08408736,  0.5423306 , -0.5364136 ,  0.6010233 ,\n",
              "       -0.5885576 , -0.19974566, -0.3303548 ,  0.1422004 ,  0.5201357 ,\n",
              "       -0.06637924, -0.55701244,  0.11162358,  0.37860054, -0.7889023 ,\n",
              "        0.6036395 ,  0.53521895, -0.6159402 , -0.02825726,  0.24954717,\n",
              "       -0.4978686 ,  0.07774761, -0.64717853, -0.52291137,  0.07145635,\n",
              "       -0.29564342, -0.45871615,  0.37537268, -0.26042718, -0.2717984 ,\n",
              "        0.03556799, -0.23839676,  0.46429783,  0.04895287, -0.2112502 ,\n",
              "       -0.2673353 , -0.40097156, -0.38557357, -0.02179042,  0.04126299,\n",
              "        0.5140106 , -0.0644331 , -0.24328767,  0.1170252 , -0.34320566,\n",
              "        0.48417744,  0.3777881 , -0.16576475,  0.51538813, -0.02682512,\n",
              "       -0.43736762, -0.34416264, -0.9640468 ,  0.39093325, -0.5658685 ,\n",
              "       -0.31754234,  0.1160711 ,  0.20172119,  0.27133217, -0.1610162 ,\n",
              "       -0.18222047, -0.6510728 ,  0.12259994,  0.31828085, -0.01121911,\n",
              "        0.99799585, -0.03709982, -0.05825495,  0.36040762,  0.3015148 ,\n",
              "        0.77218163, -0.5113561 , -0.08197683, -0.37704176,  0.00545919,\n",
              "       -0.07485019, -0.25905305,  0.0524303 , -0.09128805, -0.04170061,\n",
              "        0.44696903,  0.77522653, -0.06662888, -0.31455198,  0.11857135,\n",
              "       -0.54327923,  0.38845816,  0.13901557,  0.16495275, -0.25870547,\n",
              "       -0.70010775, -0.22440933, -1.10029   ,  0.3607173 , -0.381473  ,\n",
              "       -0.10869077, -0.34537318, -0.61684316,  0.5258241 , -0.83191407,\n",
              "        0.04332754,  0.14981039,  0.08443985,  0.5858075 , -0.5890275 ,\n",
              "        0.9271315 , -0.17006072,  0.33285472,  0.08978814,  0.21902382,\n",
              "        0.42732984, -0.43261787,  0.76982886, -0.50790864, -0.01405216,\n",
              "        0.08551588,  0.13440453, -0.71160436,  0.70481956,  0.55200773,\n",
              "       -0.22467516,  0.01036011, -0.6392081 ,  0.45224935,  0.12793776,\n",
              "       -0.82422376,  0.9078681 , -0.6324687 ,  0.41510266, -0.7423506 ,\n",
              "       -1.0724097 , -0.00220693, -0.6219903 , -0.32303953,  0.2830185 ,\n",
              "        0.5704487 , -0.18195793,  0.78047377,  0.37990934,  0.40862742,\n",
              "        0.14452927, -0.49705702,  0.55551654,  0.09993179,  0.43186846,\n",
              "        0.13338384, -0.3400522 , -0.46519023,  0.54608446, -0.4649175 ,\n",
              "       -0.01827159, -0.6178595 ,  0.04560046,  0.34401298,  0.48875067,\n",
              "       -0.47998184,  0.6796973 , -0.25395578, -0.24304605,  0.5203008 ,\n",
              "       -0.41507512,  0.40815553,  0.03015814, -0.12962574,  0.05401616,\n",
              "       -0.06530206,  0.13639762,  0.03175615, -0.17825222, -0.00573931,\n",
              "       -0.17298879,  0.5751332 ,  0.56971973, -0.5517922 ,  1.4832202 ,\n",
              "        0.0182463 , -0.5823156 ,  0.09342987, -0.5778925 ,  0.7355104 ,\n",
              "       -0.6602185 , -0.31106797,  0.43328607,  0.2892475 , -0.16613808,\n",
              "       -0.27493542, -0.0312336 ,  0.19920728,  0.6151711 , -0.8102026 ,\n",
              "       -0.06969509, -1.0046955 ,  0.06078057, -0.32569107, -0.6296954 ,\n",
              "        0.28691834, -0.11033213, -0.05275929,  0.28050703,  0.34698397,\n",
              "        0.24429569,  0.20186722, -0.23417275, -0.45862386, -0.20849794,\n",
              "        1.0686378 , -0.59758365,  0.60607797,  0.27376252, -0.80220056,\n",
              "       -0.08082307, -0.28175738, -0.606677  ,  0.12818977,  0.16613185,\n",
              "        0.54280806, -0.47932926, -0.13578227, -0.21506444, -0.20806044,\n",
              "        0.5148316 ,  0.48802134,  0.47559485,  0.18413226, -0.5719971 ,\n",
              "       -0.12062137, -0.24167816,  0.1277604 , -0.47629306,  0.43760464,\n",
              "        0.4646287 , -0.61011106,  0.94786733, -0.44459364, -0.14688987,\n",
              "       -0.46545663, -1.0621812 ,  0.53651774, -0.6551495 ,  0.31250128,\n",
              "        0.34539005, -0.11902049,  0.04373499,  0.12936233,  0.42139915,\n",
              "       -0.01730063, -0.13570109, -0.5969632 , -0.23173755,  0.00145296,\n",
              "       -0.19770294,  0.606961  ,  0.05205844,  0.29474622,  0.3739109 ,\n",
              "       -0.3652789 , -0.07910691, -0.8499439 ,  0.593118  ,  0.7149569 ,\n",
              "        0.25019377, -0.6110289 ,  0.49866086,  0.07834692, -0.41388276,\n",
              "       -1.2683061 , -0.64533657,  0.21126391, -1.0555896 ,  0.01499311,\n",
              "       -0.35420844,  0.1402187 , -0.42766136, -0.18440717, -0.9811721 ,\n",
              "        0.6090427 , -0.6532901 ,  0.8496564 , -0.31353557,  0.10433885,\n",
              "       -0.72293544, -0.48353788,  0.51186424, -0.3910578 , -0.03550997,\n",
              "        0.4150709 , -0.16076873, -0.21589191, -0.37680858,  0.2458191 ,\n",
              "        0.87279856, -0.02942289,  0.13429563,  0.38319612,  0.28067437,\n",
              "       -0.49647555, -0.34298703, -0.09394556,  0.22092672, -0.5840023 ,\n",
              "       -0.5153488 ,  1.4804746 , -0.7436483 ,  0.13691784,  0.3071055 ,\n",
              "        0.13598171, -0.07317871, -1.7588935 , -0.03868155, -0.1839248 ,\n",
              "       -0.48704898, -0.21121107, -0.02082757, -0.43154228, -0.3174594 ,\n",
              "        0.13340107, -0.00593572, -0.5992453 , -0.03468525,  0.15345474,\n",
              "        0.1290445 ,  0.06845599, -0.02540989,  0.02746266,  0.15772408,\n",
              "        0.39534208,  0.77416027,  0.06569706,  0.4739665 , -0.05177257,\n",
              "        0.26152515, -0.52645165, -0.4044065 ,  0.25850978, -0.2111432 ,\n",
              "       -0.6781912 , -0.4970091 , -0.6903578 ,  0.40767953, -0.90661746,\n",
              "        0.06882336,  0.8330673 , -0.14237218, -0.6218244 ,  0.5021652 ,\n",
              "       -0.6984275 ,  0.39918166, -0.61304814, -0.24531162,  0.89382017,\n",
              "       -0.5235252 ,  0.04987505, -0.22970988,  0.19079357,  0.18008435,\n",
              "        0.6410827 , -0.26544255, -0.8019492 , -0.22569278,  0.24508654,\n",
              "       -0.47510323,  0.85198385,  0.4473795 , -0.28266808, -0.26498017,\n",
              "       -0.26315224, -0.17109668,  0.06717102,  0.49795288,  1.041233  ,\n",
              "        0.17323261,  0.23435198,  0.03213548,  0.57026297, -0.5008915 ,\n",
              "       -0.15887097,  0.22869536, -0.6052297 , -0.45468953,  0.7534253 ,\n",
              "       -0.51521724, -0.16986002,  0.6131834 , -0.31222522, -0.9893006 ,\n",
              "       -0.42569306, -0.4804865 , -0.7112504 ,  0.01195779, -0.36821312,\n",
              "        0.11578798,  0.30967757, -0.39908987, -0.26111338,  0.65382713,\n",
              "        1.1878176 , -0.03866825, -0.36608768,  0.69245434, -0.23225425,\n",
              "        0.10003411,  0.10130654, -0.63350904,  0.47877562,  0.6250807 ,\n",
              "       -0.73494166,  0.5122895 ,  0.7681106 , -0.65610605, -0.4141764 ,\n",
              "        0.12455682,  0.3536359 ,  0.13219342, -0.05877351,  0.3487497 ,\n",
              "       -0.73939997, -0.2008766 ], dtype=float32)"
            ]
          },
          "metadata": {
            "tags": []
          },
          "execution_count": 83
        }
      ]
    },
    {
      "cell_type": "markdown",
      "metadata": {
        "id": "4wJtK5qeDmsX"
      },
      "source": [
        "## Storing into CSV"
      ]
    },
    {
      "cell_type": "code",
      "metadata": {
        "id": "8Crr9TrHvNUH"
      },
      "source": [
        "import csv"
      ],
      "execution_count": null,
      "outputs": []
    },
    {
      "cell_type": "code",
      "metadata": {
        "id": "tI1_3vznvOI5"
      },
      "source": [
        "lst = []\n",
        "for i in range(len(text_sr.index)):\n",
        "  v = np.array([0. for i in range(embedding_dim)])\n",
        "  l = 0\n",
        "  for word in norm_text[i].split():\n",
        "    v += w2v_model.wv[word]\n",
        "    l += 1\n",
        "  lst.append(v / l)"
      ],
      "execution_count": null,
      "outputs": []
    },
    {
      "cell_type": "code",
      "metadata": {
        "id": "eWeDEXWJwIv2"
      },
      "source": [
        "with open(\"word2vec_gensim.csv\", \"w\", newline=\"\") as f:\n",
        "    writer = csv.writer(f)\n",
        "    writer.writerows(lst)"
      ],
      "execution_count": null,
      "outputs": []
    },
    {
      "cell_type": "markdown",
      "metadata": {
        "id": "3Ra5mwF8_sKz"
      },
      "source": [
        "### Just a check"
      ]
    },
    {
      "cell_type": "code",
      "metadata": {
        "id": "RZrHfmpMwlgM"
      },
      "source": [
        "dfx = pd.read_csv('word2vec_gensim.csv', header = None)"
      ],
      "execution_count": null,
      "outputs": []
    },
    {
      "cell_type": "code",
      "metadata": {
        "colab": {
          "base_uri": "https://localhost:8080/"
        },
        "id": "mdwd5xcFwnix",
        "outputId": "6a4a81d8-19ea-424b-f484-780979c965c7"
      },
      "source": [
        "dfx.shape"
      ],
      "execution_count": null,
      "outputs": [
        {
          "output_type": "execute_result",
          "data": {
            "text/plain": [
              "(12305, 512)"
            ]
          },
          "metadata": {
            "tags": []
          },
          "execution_count": 97
        }
      ]
    }
  ]
}