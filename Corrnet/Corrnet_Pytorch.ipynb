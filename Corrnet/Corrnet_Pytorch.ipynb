{
  "nbformat": 4,
  "nbformat_minor": 0,
  "metadata": {
    "colab": {
      "name": "Corrnet_Pytorch.ipynb",
      "provenance": [],
      "collapsed_sections": []
    },
    "kernelspec": {
      "name": "python3",
      "display_name": "Python 3"
    }
  },
  "cells": [
    {
      "cell_type": "markdown",
      "metadata": {
        "id": "j96f-5E2C3zC"
      },
      "source": [
        "### *Import* libraries"
      ]
    },
    {
      "cell_type": "code",
      "metadata": {
        "id": "IoxaL7Ka3VrO"
      },
      "source": [
        "import os\n",
        "import torch\n",
        "import torch.nn as nn\n",
        "import torch.optim as optim\n",
        "import torch.nn.functional as F\n",
        "import torchvision\n",
        "import torchvision.transforms as transforms\n",
        "from torchvision.utils import save_image\n",
        "from torchvision import datasets, transforms\n",
        "import numpy as np\n",
        "import pandas as pd\n",
        "from scipy.spatial import distance\n",
        "from statistics import median\n",
        "from torch.utils.data import Dataset, DataLoader\n",
        "\n",
        "train_size = 12000\n",
        "test_size = 300"
      ],
      "execution_count": null,
      "outputs": []
    },
    {
      "cell_type": "markdown",
      "metadata": {
        "id": "UZiiiF0aC0pK"
      },
      "source": [
        "## Load data from csv\n",
        "Please set path according to where the image and text files are placed."
      ]
    },
    {
      "cell_type": "code",
      "metadata": {
        "id": "JhBXZBMdCz7p",
        "colab": {
          "base_uri": "https://localhost:8080/"
        },
        "outputId": "df281f58-88ed-45ef-ba65-c9dd432392ea"
      },
      "source": [
        "image_vectors = pd.read_csv('./features.csv', header=None)\n",
        "image_vectors = np.array(image_vectors)\n",
        "\n",
        "text_vectors = pd.read_csv('./word2vec.csv', header=None)\n",
        "text_vectors = np.array(text_vectors)\n",
        "\n",
        "model_save_path = './Checkpoints/model_state.pt'\n",
        "\n",
        "print(image_vectors.shape, text_vectors.shape)"
      ],
      "execution_count": null,
      "outputs": [
        {
          "output_type": "stream",
          "text": [
            "(12305, 512) (12305, 512)\n"
          ],
          "name": "stdout"
        }
      ]
    },
    {
      "cell_type": "markdown",
      "metadata": {
        "id": "RWPE37aQLJrf"
      },
      "source": [
        "### Encoder\n",
        "Separate fully connected layers for image vectors and text vectors. Both are brought to a shared vector space of dimension = 50."
      ]
    },
    {
      "cell_type": "code",
      "metadata": {
        "id": "DmyCLj3Z3XmU"
      },
      "source": [
        "class Encoder(nn.Module):\n",
        "\n",
        "    def __init__(self,input_vec_dim):\n",
        "        \n",
        "        super(Encoder,self).__init__()\n",
        "        \n",
        "        self.img_dims=[input_vec_dim,300,200,50]\n",
        "        self.fc1_img=nn.Linear(self.img_dims[0],self.img_dims[1])\n",
        "        self.fc2_img=nn.Linear(self.img_dims[1],self.img_dims[2])\n",
        "        self.fc3_img=nn.Linear(self.img_dims[2],self.img_dims[3])\n",
        "        \n",
        "        self.txt_dims=[input_vec_dim,300,200,50]\n",
        "        self.fc1_txt=nn.Linear(self.txt_dims[0],self.txt_dims[1])\n",
        "        self.fc2_txt=nn.Linear(self.txt_dims[1],self.txt_dims[2])\n",
        "        self.fc3_txt=nn.Linear(self.txt_dims[2],self.txt_dims[3])\n",
        "\n",
        "    def forward(self,img,txt):\n",
        "\n",
        "        x=F.relu(self.fc1_img(img))\n",
        "        x=F.relu(self.fc2_img(x))\n",
        "        x=F.relu(self.fc3_img(x))\n",
        "\n",
        "        y=F.relu(self.fc1_txt(txt))\n",
        "        y=F.relu(self.fc2_txt(y))\n",
        "        y=F.relu(self.fc3_txt(y))\n",
        "\n",
        "        return F.relu(torch.add(x,y))"
      ],
      "execution_count": null,
      "outputs": []
    },
    {
      "cell_type": "markdown",
      "metadata": {
        "id": "r_hpPsmGLTdT"
      },
      "source": [
        "### Decoder\n",
        "Separate fully connected layers for image vectors and text vectors in the latent space(shared vector space). Restore their original dimension of 512."
      ]
    },
    {
      "cell_type": "code",
      "metadata": {
        "id": "5k9BxEJ13gYm"
      },
      "source": [
        "class Decoder(nn.Module):\n",
        "\n",
        "    def __init__(self,output_vec_dim):\n",
        "        \n",
        "        super(Decoder,self).__init__()\n",
        "        \n",
        "        self.img_dims=[output_vec_dim,200,300,512]\n",
        "        self.fc1_img=nn.Linear(self.img_dims[0],self.img_dims[1])\n",
        "        self.fc2_img=nn.Linear(self.img_dims[1],self.img_dims[2])\n",
        "        self.fc3_img=nn.Linear(self.img_dims[2],self.img_dims[3])\n",
        "        \n",
        "        self.txt_dims=[output_vec_dim,200,300,512]\n",
        "        self.fc1_txt=nn.Linear(self.txt_dims[0],self.txt_dims[1])\n",
        "        self.fc2_txt=nn.Linear(self.txt_dims[1],self.txt_dims[2])\n",
        "        self.fc3_txt=nn.Linear(self.txt_dims[2],self.txt_dims[3])\n",
        "\n",
        "    def forward(self,rep):\n",
        "\n",
        "        x=F.relu(self.fc1_img(rep))\n",
        "        x=F.relu(self.fc2_img(x))\n",
        "        x=F.relu(self.fc3_img(x))\n",
        "\n",
        "        y=F.relu(self.fc1_txt(rep))\n",
        "        y=F.relu(self.fc2_txt(y))\n",
        "        y=F.relu(self.fc3_txt(y))\n",
        "\n",
        "        combined=F.relu(torch.cat((x,y),1))\n",
        "        return combined\n"
      ],
      "execution_count": null,
      "outputs": []
    },
    {
      "cell_type": "markdown",
      "metadata": {
        "id": "KpCKyrl0LZgv"
      },
      "source": [
        "## Corrnet Model\n",
        "Makes use of the Encoder and Decoder Neural Networks."
      ]
    },
    {
      "cell_type": "code",
      "metadata": {
        "id": "HGfLSFsu3kHw"
      },
      "source": [
        "class Corrnet(nn.Module):\n",
        "    def __init__(self,input_vec_dim,common_rep_dim):\n",
        "        super(Corrnet,self).__init__()\n",
        "        self.encoder=Encoder(input_vec_dim)\n",
        "        self.decoder=Decoder(common_rep_dim)\n",
        "\n",
        "    def forward(self,img,txt):\n",
        "        common_rep=self.encoder(img,txt)\n",
        "        combined=self.decoder(common_rep)\n",
        "        return combined\n",
        "\n",
        "\n",
        "class corrnet_dataset(Dataset):\n",
        "  def __init__(self,img,txt):\n",
        "    self.img = img\n",
        "    self.txt = txt\n",
        "    if self.img.shape[0]!=self.txt.shape[0]:\n",
        "      raise Exception(\"Different no. of samples\")\n",
        "\n",
        "  def __len__(self):\n",
        "    return self.img.shape[0]\n",
        "\n",
        "  def __getitem__(self, index):\n",
        "    # note that this isn't randomly selecting. It's a simple get a single item that represents an x and y\n",
        "    _img = self.img[index]\n",
        "    _txt = self.txt[index]\n",
        "\n",
        "    return _img, _txt"
      ],
      "execution_count": null,
      "outputs": []
    },
    {
      "cell_type": "markdown",
      "metadata": {
        "id": "2gR_oap_Lm4W"
      },
      "source": [
        "### Create Dataloader object\n",
        "We create a dataloader object from our dataset. DataLoader, from torch.utils. Data shuffles the data and creates batches of size 32 for us."
      ]
    },
    {
      "cell_type": "code",
      "metadata": {
        "id": "5c0yX9qh3mEY"
      },
      "source": [
        "def get_data_loader():\n",
        "    img = torch.from_numpy(image_vectors[:train_size].astype(np.float32))\n",
        "    txt = torch.from_numpy(text_vectors[:train_size].astype(np.float32))\n",
        "\n",
        "    loader = DataLoader(corrnet_dataset(img, txt), batch_size=32, shuffle=True)\n",
        "\n",
        "    return loader"
      ],
      "execution_count": null,
      "outputs": []
    },
    {
      "cell_type": "markdown",
      "metadata": {
        "id": "yJaOBDbzL_1Q"
      },
      "source": [
        "### Call to make the Model"
      ]
    },
    {
      "cell_type": "code",
      "metadata": {
        "id": "fMXSGCFJ3ogJ"
      },
      "source": [
        "def make_model(load_pretrained=True):\n",
        "\n",
        "    Model=Corrnet(512,50)\n",
        "    optimizer = optim.Adam(Model.parameters(), lr=0.001)\n",
        "\n",
        "    if (load_pretrained and os.path.exists(model_save_path)):\n",
        "      Model.load_state_dict(torch.load(model_save_path))\n",
        "\n",
        "    return Model,optimizer\n",
        "    # print(Model)"
      ],
      "execution_count": null,
      "outputs": []
    },
    {
      "cell_type": "markdown",
      "metadata": {
        "id": "224jBu8uMDYB"
      },
      "source": [
        "### Correlation Part of Loss\n",
        "Given image vector 'x' and text vector 'y', find their correlation."
      ]
    },
    {
      "cell_type": "code",
      "metadata": {
        "id": "-5z8PG1Y3uVG"
      },
      "source": [
        "def correlation(x, y, lamda=0.02):\n",
        "\n",
        "  '''\n",
        "    x, y are n x 50 dimensional vectors obtained from the respective n x 512 embeddings\n",
        "  '''\n",
        "\n",
        "  x_mean = torch.mean(x, dim = 0) # Along the y-axis, that is, average of all feature vectors\n",
        "  y_mean = torch.mean(y, dim = 0) # 1 x 50 dimensional\n",
        "  x_centered = torch.sub(x, x_mean) # calculates xi - X_mean n x 50 dimensional\n",
        "  y_centered = torch.sub(y, y_mean) # calculates yi - Y_mean\n",
        "  corr_nr = torch.sum(torch.mul(x_centered, y_centered)) # The numerator\n",
        "  # print(list(corr_nr.shape))\n",
        "  corr_dr1 = torch.sqrt(torch.sum(torch.square(x_centered)))\n",
        "  corr_dr2 = torch.sqrt(torch.sum(torch.square(y_centered)))\n",
        "  corr_dr = corr_dr1 * corr_dr2\n",
        "  corr = -lamda * corr_nr / corr_dr\n",
        "  # print(corr.item()) # Should decrease ideally\n",
        "  return corr"
      ],
      "execution_count": null,
      "outputs": []
    },
    {
      "cell_type": "code",
      "metadata": {
        "id": "v7s7THQOwFKJ"
      },
      "source": [
        "# Own implementation of criterion loss\n",
        "def own_mse_loss(inp, target):\n",
        "  L = (inp - target) ** 2\n",
        "  return torch.mean(L)"
      ],
      "execution_count": null,
      "outputs": []
    },
    {
      "cell_type": "code",
      "metadata": {
        "id": "11gZB2Kb3xus"
      },
      "source": [
        "criterion = nn.MSELoss()"
      ],
      "execution_count": null,
      "outputs": []
    },
    {
      "cell_type": "code",
      "metadata": {
        "id": "snqZoBl9x2oF",
        "colab": {
          "base_uri": "https://localhost:8080/"
        },
        "outputId": "6fc2a29d-1354-4be3-cb68-54ca6a196893"
      },
      "source": [
        "own_mse_loss(e, f) # First divided by the dimension of the vector, then the individual MSEs are squared.\n",
        "criterion(e, f)\n",
        "# Just like in ML lecture"
      ],
      "execution_count": null,
      "outputs": [
        {
          "output_type": "execute_result",
          "data": {
            "text/plain": [
              "tensor(1.3333, dtype=torch.float64)"
            ]
          },
          "metadata": {
            "tags": []
          },
          "execution_count": 38
        }
      ]
    },
    {
      "cell_type": "markdown",
      "metadata": {
        "id": "paBtWKy_MYPc"
      },
      "source": [
        "### Training\n",
        "Set number of epochs as required."
      ]
    },
    {
      "cell_type": "code",
      "metadata": {
        "id": "tZKHpTRIwAZt"
      },
      "source": [
        "def train():\n",
        "    epochs = 100\n",
        "    for e in range(epochs):\n",
        "        ind = 1\n",
        "        L = []\n",
        "        err=[[],[],[],[]]\n",
        "        for img,txt in dataset:\n",
        "\n",
        "            # img-> 224*224*3 array\n",
        "            # txt -> string\n",
        "\n",
        "            concat_inputs=torch.cat((img,txt),1)\n",
        "\n",
        "            opt.zero_grad()\n",
        "\n",
        "            res_combined_input=corrnet(img,txt)\n",
        "            res_img_input=corrnet(img,torch.zeros_like(txt))\n",
        "            res_txt_input=corrnet(torch.zeros_like(img),txt)\n",
        "\n",
        "            err1 = criterion(res_combined_input,concat_inputs)\n",
        "            err2 = criterion(res_img_input,concat_inputs)\n",
        "            err3 = criterion(res_txt_input,concat_inputs)\n",
        "            err4 = correlation(\n",
        "                corrnet.encoder(img, torch.zeros_like(txt)),\n",
        "                corrnet.encoder(torch.zeros_like(img), txt)\n",
        "            )\n",
        "            \n",
        "            loss = (err1 + err2 + err3 + err4)\n",
        "\n",
        "            loss.backward()\n",
        "\n",
        "            \n",
        "            L.append(loss.item())\n",
        "            err[0].append(err1.item())\n",
        "            err[1].append(err2.item())\n",
        "            err[2].append(err3.item())\n",
        "            err[3].append(err4.item())\n",
        "            opt.step()\n",
        "\n",
        "            ind+=1\n",
        "        \n",
        "        print(\"Epoch: {}:, Loss: {}\".format(e, np.mean(L)))\n",
        "        for i in range(len(err)):\n",
        "          print(\"err{}: {}\".format(i+1,np.mean(err[i])),end=\"\\t\")\n",
        "        print(\"\\n\")\n",
        "\n",
        "        if(e%10==0):\n",
        "          torch.save(corrnet.state_dict(),model_save_path)\n"
      ],
      "execution_count": null,
      "outputs": []
    },
    {
      "cell_type": "markdown",
      "metadata": {
        "id": "kilvqGp6M2KJ"
      },
      "source": [
        "### Prediction\n",
        "Given image and text vectors, predict their euclidean and cosine distances."
      ]
    },
    {
      "cell_type": "code",
      "metadata": {
        "id": "eVXTmTxpdGpO"
      },
      "source": [
        "def predict(img, txt):\n",
        "  img_vecs = corrnet.encoder(img, torch.zeros_like(txt))\n",
        "  txt_vecs = corrnet.encoder(torch.zeros_like(img), txt)\n",
        "\n",
        "  euc = []\n",
        "  cos = []\n",
        "  for img_vec, txt_vec in zip(img_vecs, txt_vecs):\n",
        "    euc.append(distance.euclidean(img_vec.cpu().detach().numpy(), txt_vec.cpu().detach().numpy()))\n",
        "    cos.append(distance.cosine(img_vec.cpu().detach().numpy(), txt_vec.cpu().detach().numpy()))\n",
        "\n",
        "  return np.array(euc), np.array(cos)"
      ],
      "execution_count": null,
      "outputs": []
    },
    {
      "cell_type": "code",
      "metadata": {
        "id": "VpoBOGn7flYj"
      },
      "source": [
        "def print_metrics():\n",
        "  img_test = torch.from_numpy(image_vectors[train_size: train_size+test_size].astype(np.float32))\n",
        "  txt_test = torch.from_numpy(text_vectors[train_size: train_size+test_size].astype(np.float32))\n",
        "\n",
        "  mr = []\n",
        "  top_1_count = 0\n",
        "  top_5_count = 0\n",
        "  top_10_count = 0\n",
        "\n",
        "  for i in range(test_size):\n",
        "    img_array = np.zeros((test_size, 512))\n",
        "    for k in range(test_size):\n",
        "      img_array[k] = img_test[i]\n",
        "        \n",
        "    txt_array = np.zeros((test_size, 512))\n",
        "    for j in range(test_size):\n",
        "      txt_array[j] = txt_test[j]\n",
        "    \n",
        "    predictions = list(predict(torch.from_numpy(txt_array.astype(np.float32)), torch.from_numpy(img_array.astype(np.float32)))[1])\n",
        "    pred_i = predictions[i]\n",
        "    predictions.sort()\n",
        "    rank = predictions.index(pred_i)\n",
        "    if rank < 10:\n",
        "      top_10_count += 1\n",
        "    if rank < 5:\n",
        "      top_5_count += 1\n",
        "    if rank < 1:\n",
        "      top_1_count += 1\n",
        "    mr.append(rank+1)     \n",
        "\n",
        "  print('Median Rank(img->txt):', median(mr)*100/test_size, '%')\n",
        "  print('R@1(img->txt):', top_1_count*100/test_size, '%')\n",
        "  print('R@5(img->txt):', top_5_count*100/test_size, '%')\n",
        "  print('R@10(img->txt):', top_10_count*100/test_size, '%')\n",
        "\n",
        "  mr = []\n",
        "  top_1_count = 0\n",
        "  top_5_count = 0\n",
        "  top_10_count = 0\n",
        "\n",
        "  for i in range(test_size):\n",
        "    img_array = np.zeros((test_size, 512))\n",
        "    for k in range(test_size):\n",
        "      img_array[k] = img_test[k]\n",
        "        \n",
        "    txt_array = np.zeros((test_size, 512))\n",
        "    for j in range(test_size):\n",
        "      txt_array[j] = txt_test[i]\n",
        "    \n",
        "    predictions = list(predict(torch.from_numpy(txt_array.astype(np.float32)), torch.from_numpy(img_array.astype(np.float32)))[1])\n",
        "    pred_i = predictions[i]\n",
        "    predictions.sort()\n",
        "    rank = predictions.index(pred_i)\n",
        "    if rank < 10:\n",
        "      top_10_count += 1\n",
        "    if rank < 5:\n",
        "      top_5_count += 1\n",
        "    if rank < 1:\n",
        "      top_1_count += 1\n",
        "    mr.append(rank+1)     \n",
        "\n",
        "  print('Median Rank(txt->img):', median(mr)*100/test_size, '%')\n",
        "  print('R@1(txt->img):', top_1_count*100/test_size, '%')\n",
        "  print('R@5(txt->img):', top_5_count*100/test_size, '%')\n",
        "  print('R@10(txt->img):', top_10_count*100/test_size, '%')"
      ],
      "execution_count": null,
      "outputs": []
    },
    {
      "cell_type": "code",
      "metadata": {
        "id": "hU6Jn87Z3155",
        "colab": {
          "base_uri": "https://localhost:8080/"
        },
        "outputId": "7db07bb0-5b85-4254-cabc-c0d2a1c9700a"
      },
      "source": [
        "if __name__ == \"__main__\":\n",
        "    corrnet, opt = make_model(False)\n",
        "    dataset = get_data_loader() # Insert the embeddings inside this function\n",
        "    train()"
      ],
      "execution_count": null,
      "outputs": [
        {
          "output_type": "stream",
          "text": [
            "Epoch: 0:, Loss: 0.45059243845939634\n",
            "err1: 0.15434641776482264\terr2: 0.15449427553017933\terr3: 0.1594334157705307\terr4: -0.017681670394105217\t\n",
            "\n",
            "Epoch: 1:, Loss: 0.3435710775852203\n",
            "err1: 0.11604118392864864\terr2: 0.11724428355693817\terr3: 0.12859890355666478\terr4: -0.018313292883336545\t\n",
            "\n",
            "Epoch: 2:, Loss: 0.31804039669036865\n",
            "err1: 0.10606649239857992\terr2: 0.10808032415310542\terr3: 0.12238489532470703\terr4: -0.018491314599911372\t\n",
            "\n",
            "Epoch: 3:, Loss: 0.30300241525967914\n",
            "err1: 0.10008199085791905\terr2: 0.10277518971761068\terr3: 0.11873472032944361\terr4: -0.01858948708573977\t\n",
            "\n",
            "Epoch: 4:, Loss: 0.2925619030793508\n",
            "err1: 0.09614095455408096\terr2: 0.09936030350128809\terr3: 0.11572767208019892\terr4: -0.018667027155558267\t\n",
            "\n",
            "Epoch: 5:, Loss: 0.2851675442059835\n",
            "err1: 0.09341880738735199\terr2: 0.0970039712190628\terr3: 0.11348733776807785\terr4: -0.018742571656902633\t\n",
            "\n",
            "Epoch: 6:, Loss: 0.2796692452430725\n",
            "err1: 0.09140770405530929\terr2: 0.09530282364288965\terr3: 0.11174346117178599\terr4: -0.018784744208057723\t\n",
            "\n",
            "Epoch: 7:, Loss: 0.2751231210231781\n",
            "err1: 0.089753526588281\terr2: 0.09387790604432424\terr3: 0.11032599220673243\terr4: -0.0188343036621809\t\n",
            "\n",
            "Epoch: 8:, Loss: 0.27110497244199117\n",
            "err1: 0.08835963924725851\terr2: 0.09264384311437607\terr3: 0.10897150053580602\terr4: -0.018870011505981287\t\n",
            "\n",
            "Epoch: 9:, Loss: 0.2679231429894765\n",
            "err1: 0.08728702549139658\terr2: 0.0917347421447436\terr3: 0.10780230929454168\terr4: -0.018900934055447578\t\n",
            "\n",
            "Epoch: 10:, Loss: 0.2651345866918564\n",
            "err1: 0.08637490004301071\terr2: 0.09091599986950556\terr3: 0.10679006119569143\terr4: -0.018946374088525772\t\n",
            "\n",
            "Epoch: 11:, Loss: 0.2623909212350845\n",
            "err1: 0.08545879876613617\terr2: 0.09009109870592753\terr3: 0.10581572143236796\terr4: -0.01897469760477543\t\n",
            "\n",
            "Epoch: 12:, Loss: 0.2571987513303757\n",
            "err1: 0.0837330958644549\terr2: 0.08840656703710556\terr3: 0.10406830447912216\terr4: -0.019009215672810872\t\n",
            "\n",
            "Epoch: 13:, Loss: 0.2549078926642736\n",
            "err1: 0.08300128626823425\terr2: 0.0877156694928805\terr3: 0.10320669966936112\terr4: -0.019015763238072397\t\n",
            "\n",
            "Epoch: 14:, Loss: 0.25299644351005557\n",
            "err1: 0.0824233751098315\terr2: 0.08714911802609762\terr3: 0.10247007083892823\terr4: -0.01904612022638321\t\n",
            "\n",
            "Epoch: 15:, Loss: 0.25153289874394735\n",
            "err1: 0.08194929762681326\terr2: 0.08663957128922145\terr3: 0.10199130322535832\terr4: -0.01904727504650752\t\n",
            "\n",
            "Epoch: 16:, Loss: 0.2498322477340698\n",
            "err1: 0.08148125745852788\terr2: 0.08619247955083847\terr3: 0.10123646106322606\terr4: -0.019077949658036233\t\n",
            "\n",
            "Epoch: 17:, Loss: 0.24839061311880747\n",
            "err1: 0.08104217475652695\terr2: 0.08582881993055344\terr3: 0.10059691655635834\terr4: -0.019077297727266948\t\n",
            "\n",
            "Epoch: 18:, Loss: 0.24706405421098074\n",
            "err1: 0.08064884032805761\terr2: 0.0854193164507548\terr3: 0.10009595757722854\terr4: -0.019100061565637587\t\n",
            "\n",
            "Epoch: 19:, Loss: 0.24604196401437123\n",
            "err1: 0.08034529948234558\terr2: 0.08512407006820043\terr3: 0.09969132055838903\terr4: -0.019118725662430128\t\n",
            "\n",
            "Epoch: 20:, Loss: 0.24500205977757772\n",
            "err1: 0.08010469834009806\terr2: 0.08483365672826768\terr3: 0.09917736840248108\terr4: -0.019113664026061693\t\n",
            "\n",
            "Epoch: 21:, Loss: 0.24398735948403677\n",
            "err1: 0.07977388016382853\terr2: 0.08454171959559123\terr3: 0.09881083909670511\terr4: -0.019139078999559085\t\n",
            "\n",
            "Epoch: 22:, Loss: 0.24298420711358387\n",
            "err1: 0.0794929960767428\terr2: 0.08427854305505753\terr3: 0.09835128285487493\terr4: -0.01913861456513405\t\n",
            "\n",
            "Epoch: 23:, Loss: 0.24220336163043976\n",
            "err1: 0.07928377133607864\terr2: 0.08408215222756069\terr3: 0.09799730916817984\terr4: -0.019159870927532515\t\n",
            "\n",
            "Epoch: 24:, Loss: 0.24152494978904723\n",
            "err1: 0.07908583476146062\terr2: 0.08390763491392135\terr3: 0.09768647505839666\terr4: -0.01915499529739221\t\n",
            "\n",
            "Epoch: 25:, Loss: 0.24077110584576925\n",
            "err1: 0.07888584701220194\terr2: 0.08368198472261429\terr3: 0.09736871820688248\terr4: -0.01916544362902641\t\n",
            "\n",
            "Epoch: 26:, Loss: 0.24000606139500935\n",
            "err1: 0.07869956370194753\terr2: 0.0834791352947553\terr3: 0.09699871102968852\terr4: -0.019171348323424656\t\n",
            "\n",
            "Epoch: 27:, Loss: 0.239406103293101\n",
            "err1: 0.07853795486688614\terr2: 0.08334772239128749\terr3: 0.09669135004281998\terr4: -0.019170924161871276\t\n",
            "\n",
            "Epoch: 28:, Loss: 0.23860452485084532\n",
            "err1: 0.0782979589899381\terr2: 0.08312063117822012\terr3: 0.096369981944561\terr4: -0.01918404743572076\t\n",
            "\n",
            "Epoch: 29:, Loss: 0.23808607959747313\n",
            "err1: 0.07817058485746384\terr2: 0.08298843244711558\terr3: 0.09611920460065206\terr4: -0.019192142377297085\t\n",
            "\n",
            "Epoch: 30:, Loss: 0.23762115569909414\n",
            "err1: 0.07804001168409984\terr2: 0.08284370352824529\terr3: 0.09591906060775121\terr4: -0.01918162088096142\t\n",
            "\n",
            "Epoch: 31:, Loss: 0.23686886898676554\n",
            "err1: 0.07787471860647202\terr2: 0.08271055243412653\terr3: 0.09548286233345668\terr4: -0.01919926429291566\t\n",
            "\n",
            "Epoch: 32:, Loss: 0.23632514413197836\n",
            "err1: 0.0777089810570081\terr2: 0.08251213425397873\terr3: 0.0953077929019928\terr4: -0.01920376407603423\t\n",
            "\n",
            "Epoch: 33:, Loss: 0.23582374580701193\n",
            "err1: 0.07760335771242778\terr2: 0.08240706666310628\terr3: 0.09502226122220357\terr4: -0.019208940083781878\t\n",
            "\n",
            "Epoch: 34:, Loss: 0.2353564486106237\n",
            "err1: 0.07748092559973399\terr2: 0.08226755676666896\terr3: 0.09481579995155334\terr4: -0.019207833578189216\t\n",
            "\n",
            "Epoch: 35:, Loss: 0.23475434497992198\n",
            "err1: 0.07730652445554734\terr2: 0.08216596694787344\terr3: 0.09449051537116368\terr4: -0.019208660711844763\t\n",
            "\n",
            "Epoch: 36:, Loss: 0.23401297843456267\n",
            "err1: 0.0771083019177119\terr2: 0.0819480948249499\terr3: 0.09417028286059698\terr4: -0.019213701834281286\t\n",
            "\n",
            "Epoch: 37:, Loss: 0.23331632268428804\n",
            "err1: 0.07689066312710444\terr2: 0.0817244029045105\terr3: 0.09392262276013692\terr4: -0.01922136567533016\t\n",
            "\n",
            "Epoch: 38:, Loss: 0.23282101094722749\n",
            "err1: 0.07676566370328268\terr2: 0.08161146565278371\terr3: 0.09367615952094396\terr4: -0.01923227811853091\t\n",
            "\n",
            "Epoch: 39:, Loss: 0.2322982272307078\n",
            "err1: 0.07660233346621195\terr2: 0.08146002089977264\terr3: 0.0934629124601682\terr4: -0.019227039277553558\t\n",
            "\n",
            "Epoch: 40:, Loss: 0.23201861155033113\n",
            "err1: 0.07653874818483988\terr2: 0.08136650705337524\terr3: 0.09333969553311666\terr4: -0.019226339176297187\t\n",
            "\n",
            "Epoch: 41:, Loss: 0.23162788144747415\n",
            "err1: 0.0764527183175087\terr2: 0.08126287853717803\terr3: 0.093127610206604\terr4: -0.019215325484673182\t\n",
            "\n",
            "Epoch: 42:, Loss: 0.23127487341562908\n",
            "err1: 0.07637633715073268\terr2: 0.08117791837453842\terr3: 0.09295876342058182\terr4: -0.019238146220644316\t\n",
            "\n",
            "Epoch: 43:, Loss: 0.2309425453344981\n",
            "err1: 0.07629294757048288\terr2: 0.08110753931601843\terr3: 0.09277422589063644\terr4: -0.01923216788470745\t\n",
            "\n",
            "Epoch: 44:, Loss: 0.23063448989391327\n",
            "err1: 0.07620375136534373\terr2: 0.08098320591449737\terr3: 0.09269053383668263\terr4: -0.0192430019925038\t\n",
            "\n",
            "Epoch: 45:, Loss: 0.2303051570256551\n",
            "err1: 0.0761261536280314\terr2: 0.08091343873739243\terr3: 0.09251440759499868\terr4: -0.01924884261190891\t\n",
            "\n",
            "Epoch: 46:, Loss: 0.23002690696716308\n",
            "err1: 0.07604863293965658\terr2: 0.08082586403687796\terr3: 0.09239273569981257\terr4: -0.019240325247248013\t\n",
            "\n",
            "Epoch: 47:, Loss: 0.22970583669344585\n",
            "err1: 0.07598136347532272\terr2: 0.08075962660710016\terr3: 0.09221805822849273\terr4: -0.019253211294611296\t\n",
            "\n",
            "Epoch: 48:, Loss: 0.22922926207383473\n",
            "err1: 0.07587916922569275\terr2: 0.08062476817766825\terr3: 0.09198101079463959\terr4: -0.019255686322848003\t\n",
            "\n",
            "Epoch: 49:, Loss: 0.22893316169579825\n",
            "err1: 0.07579214243094126\terr2: 0.08053988196452459\terr3: 0.09185451658566793\terr4: -0.019253378758827846\t\n",
            "\n",
            "Epoch: 50:, Loss: 0.2285979940891266\n",
            "err1: 0.07567642358938853\terr2: 0.08042322643597921\terr3: 0.0917562206586202\terr4: -0.019257875914374986\t\n",
            "\n",
            "Epoch: 51:, Loss: 0.2284846813281377\n",
            "err1: 0.07569581053654353\terr2: 0.08042525837818781\terr3: 0.09162682463725408\terr4: -0.019263211806615194\t\n",
            "\n",
            "Epoch: 52:, Loss: 0.22819915302594504\n",
            "err1: 0.07559167663256328\terr2: 0.08031331568956375\terr3: 0.09155789677302043\terr4: -0.01926373563706875\t\n",
            "\n",
            "Epoch: 53:, Loss: 0.22788606667518616\n",
            "err1: 0.07555410645405451\terr2: 0.08024458076556523\terr3: 0.09136028844118119\terr4: -0.019272909199198086\t\n",
            "\n",
            "Epoch: 54:, Loss: 0.22755812013149262\n",
            "err1: 0.07544731126228968\terr2: 0.08012944412231446\terr3: 0.0912467741171519\terr4: -0.019265408118565877\t\n",
            "\n",
            "Epoch: 55:, Loss: 0.2273817789554596\n",
            "err1: 0.07537676207224528\terr2: 0.08010469967126846\terr3: 0.09117614076534906\terr4: -0.01927582336962223\t\n",
            "\n",
            "Epoch: 56:, Loss: 0.227030397772789\n",
            "err1: 0.07529394195477168\terr2: 0.07997111803293228\terr3: 0.09103950734933218\terr4: -0.019274169837435087\t\n",
            "\n",
            "Epoch: 57:, Loss: 0.22679337545235953\n",
            "err1: 0.07526498728990555\terr2: 0.07992482940355937\terr3: 0.09088322710990905\terr4: -0.01927966917057832\t\n",
            "\n",
            "Epoch: 58:, Loss: 0.2265504504442215\n",
            "err1: 0.07523161254326502\terr2: 0.07985981009403864\terr3: 0.09073186292250951\terr4: -0.019272835264603296\t\n",
            "\n",
            "Epoch: 59:, Loss: 0.2261824939250946\n",
            "err1: 0.0750982370376587\terr2: 0.07972759145498276\terr3: 0.09062950251499811\terr4: -0.019272836710015933\t\n",
            "\n",
            "Epoch: 60:, Loss: 0.2261011254787445\n",
            "err1: 0.07508510975042978\terr2: 0.07972371542453766\terr3: 0.09056370047728221\terr4: -0.01927140112221241\t\n",
            "\n",
            "Epoch: 61:, Loss: 0.22575925699869792\n",
            "err1: 0.0750295145114263\terr2: 0.0795928580959638\terr3: 0.09042516638835271\terr4: -0.019288281599680584\t\n",
            "\n",
            "Epoch: 62:, Loss: 0.22568197552363078\n",
            "err1: 0.07500214383999507\terr2: 0.07957078727086385\terr3: 0.09038355831305186\terr4: -0.019274514292677243\t\n",
            "\n",
            "Epoch: 63:, Loss: 0.2254167091449102\n",
            "err1: 0.07494085139036179\terr2: 0.07953853893280029\terr3: 0.09022450530529022\terr4: -0.0192871862500906\t\n",
            "\n",
            "Epoch: 64:, Loss: 0.22529326419035595\n",
            "err1: 0.07490398915608724\terr2: 0.07947837205727895\terr3: 0.0901987778544426\terr4: -0.019287874961892763\t\n",
            "\n",
            "Epoch: 65:, Loss: 0.22490981916586558\n",
            "err1: 0.07483035582304001\terr2: 0.07934583320220312\terr3: 0.09002639027436574\terr4: -0.019292760267853738\t\n",
            "\n",
            "Epoch: 66:, Loss: 0.22484641190369925\n",
            "err1: 0.07478274913628896\terr2: 0.07937071569760641\terr3: 0.08997648040453593\terr4: -0.01928353286286195\t\n",
            "\n",
            "Epoch: 67:, Loss: 0.22459566561381022\n",
            "err1: 0.07473045680920283\terr2: 0.07923896531263987\terr3: 0.08991249893109003\terr4: -0.019286255786816277\t\n",
            "\n",
            "Epoch: 68:, Loss: 0.22446147469679514\n",
            "err1: 0.07469937439759572\terr2: 0.07919034580389658\terr3: 0.08986283135414123\terr4: -0.019291076228022574\t\n",
            "\n",
            "Epoch: 69:, Loss: 0.22419880251089733\n",
            "err1: 0.07461871192852657\terr2: 0.07910336097081502\terr3: 0.08977029609680176\terr4: -0.019293566117684048\t\n",
            "\n",
            "Epoch: 70:, Loss: 0.22409573781490327\n",
            "err1: 0.07464539215962092\terr2: 0.07911896349986394\terr3: 0.08962379288673401\terr4: -0.019292410671710968\t\n",
            "\n",
            "Epoch: 71:, Loss: 0.223802543203036\n",
            "err1: 0.07452815020084382\terr2: 0.07902855090300243\terr3: 0.0895465221007665\terr4: -0.019300680542985598\t\n",
            "\n",
            "Epoch: 72:, Loss: 0.2235491014321645\n",
            "err1: 0.07447432661056519\terr2: 0.07893158266941706\terr3: 0.08944001946846644\terr4: -0.019296827723582585\t\n",
            "\n",
            "Epoch: 73:, Loss: 0.2231747566064199\n",
            "err1: 0.07436016249656677\terr2: 0.07878186124563218\terr3: 0.08934058032433193\terr4: -0.019307847102483115\t\n",
            "\n",
            "Epoch: 74:, Loss: 0.22322126173973084\n",
            "err1: 0.07441298079490662\terr2: 0.07886851960420609\terr3: 0.08923652827739716\terr4: -0.01929676623145739\t\n",
            "\n",
            "Epoch: 75:, Loss: 0.22290612955888112\n",
            "err1: 0.07432287077109019\terr2: 0.07872720215717952\terr3: 0.08916179527839024\terr4: -0.019305738990505538\t\n",
            "\n",
            "Epoch: 76:, Loss: 0.2229816746711731\n",
            "err1: 0.07436325432856877\terr2: 0.07879781915744145\terr3: 0.08912275431553522\terr4: -0.019302152544260025\t\n",
            "\n",
            "Epoch: 77:, Loss: 0.2227867506345113\n",
            "err1: 0.07430079370737076\terr2: 0.07868176513910294\terr3: 0.08911215170224508\terr4: -0.0193079604357481\t\n",
            "\n",
            "Epoch: 78:, Loss: 0.22244153555234272\n",
            "err1: 0.07422847847143808\terr2: 0.07858461644252142\terr3: 0.08893006918827692\terr4: -0.01930162927011649\t\n",
            "\n",
            "Epoch: 79:, Loss: 0.2223655863602956\n",
            "err1: 0.07421165144443512\terr2: 0.07856884308656056\terr3: 0.08889181462923686\terr4: -0.019306722621122995\t\n",
            "\n",
            "Epoch: 80:, Loss: 0.22205068496863048\n",
            "err1: 0.07411841879288356\terr2: 0.07842619429032008\terr3: 0.08881393182277679\terr4: -0.019307860066493352\t\n",
            "\n",
            "Epoch: 81:, Loss: 0.221982440272967\n",
            "err1: 0.07412404370307922\terr2: 0.07844120458761851\terr3: 0.08872490441799163\terr4: -0.019307712212204932\t\n",
            "\n",
            "Epoch: 82:, Loss: 0.22191356245676677\n",
            "err1: 0.07411184646685919\terr2: 0.07838691288232803\terr3: 0.08872523804505666\terr4: -0.019310434555013974\t\n",
            "\n",
            "Epoch: 83:, Loss: 0.2219256398677826\n",
            "err1: 0.07414609809716542\terr2: 0.07843902583916983\terr3: 0.08864880440632503\terr4: -0.019308287839094797\t\n",
            "\n",
            "Epoch: 84:, Loss: 0.22169398208459218\n",
            "err1: 0.07402711222569147\terr2: 0.07834793571631114\terr3: 0.08862767453988393\terr4: -0.019308740148941676\t\n",
            "\n",
            "Epoch: 85:, Loss: 0.22159175936381023\n",
            "err1: 0.07403765918811163\terr2: 0.07829388423760732\terr3: 0.08857855288187663\terr4: -0.019318336889147757\t\n",
            "\n",
            "Epoch: 86:, Loss: 0.22147292002042135\n",
            "err1: 0.07405615832408269\terr2: 0.07832334631681442\terr3: 0.08839767150084178\terr4: -0.019304256970683734\t\n",
            "\n",
            "Epoch: 87:, Loss: 0.22017186494668325\n",
            "err1: 0.07361339833339055\terr2: 0.07777494865655898\terr3: 0.0881021414399147\terr4: -0.01931862304608027\t\n",
            "\n",
            "Epoch: 88:, Loss: 0.21966523679097494\n",
            "err1: 0.07345219465096792\terr2: 0.07766804524262746\terr3: 0.08786565534273784\terr4: -0.019320658301313718\t\n",
            "\n",
            "Epoch: 89:, Loss: 0.2197190798918406\n",
            "err1: 0.07346645345290502\terr2: 0.07767128862937292\terr3: 0.08789772216478983\terr4: -0.019316384519139924\t\n",
            "\n",
            "Epoch: 90:, Loss: 0.21951008089383442\n",
            "err1: 0.07339724089701971\terr2: 0.07761867531140645\terr3: 0.08780910994609196\terr4: -0.019314944734176\t\n",
            "\n",
            "Epoch: 91:, Loss: 0.2193607850074768\n",
            "err1: 0.07336551809310914\terr2: 0.07756614965200424\terr3: 0.08774492379029591\terr4: -0.019315807059407233\t\n",
            "\n",
            "Epoch: 92:, Loss: 0.21903813230991365\n",
            "err1: 0.07328861590226492\terr2: 0.0774692752957344\terr3: 0.08760468020041784\terr4: -0.01932443987329801\t\n",
            "\n",
            "Epoch: 93:, Loss: 0.21903158164024353\n",
            "err1: 0.07328658038377762\terr2: 0.07747684333721797\terr3: 0.0875830039580663\terr4: -0.019314845557014147\t\n",
            "\n",
            "Epoch: 94:, Loss: 0.21867514542738598\n",
            "err1: 0.07316721030076345\terr2: 0.07730067205429077\terr3: 0.0875338857571284\terr4: -0.019326622585455578\t\n",
            "\n",
            "Epoch: 95:, Loss: 0.2185321960846583\n",
            "err1: 0.0731495549082756\terr2: 0.07729935512940089\terr3: 0.08741310781240463\terr4: -0.019329822853207588\t\n",
            "\n",
            "Epoch: 96:, Loss: 0.21865667283535004\n",
            "err1: 0.0732072977423668\terr2: 0.07737887259324391\terr3: 0.08739888783295949\terr4: -0.019328385084867478\t\n",
            "\n",
            "Epoch: 97:, Loss: 0.21859673607349395\n",
            "err1: 0.07319632824261983\terr2: 0.07730965717633566\terr3: 0.08741473160187403\terr4: -0.019323981309930485\t\n",
            "\n",
            "Epoch: 98:, Loss: 0.21826339562733968\n",
            "err1: 0.07310584841171901\terr2: 0.0772451004187266\terr3: 0.08724198176463445\terr4: -0.019329535086949668\t\n",
            "\n",
            "Epoch: 99:, Loss: 0.21831075445810955\n",
            "err1: 0.07315912717580796\terr2: 0.07725012081861496\terr3: 0.08723478511969249\terr4: -0.019333278546730677\t\n",
            "\n"
          ],
          "name": "stdout"
        }
      ]
    },
    {
      "cell_type": "markdown",
      "metadata": {
        "id": "KD8X6qkhQ71T"
      },
      "source": [
        "### Find out metrics for the Model on the given Data."
      ]
    },
    {
      "cell_type": "code",
      "metadata": {
        "colab": {
          "base_uri": "https://localhost:8080/"
        },
        "id": "yicMrcW9BKN_",
        "outputId": "eccf95ff-e701-437f-83a1-b58bc698205f"
      },
      "source": [
        "print_metrics()"
      ],
      "execution_count": null,
      "outputs": [
        {
          "output_type": "stream",
          "text": [
            "Median Rank(img->txt): 50.0 %\n",
            "R@1(img->txt): 0.3333333333333333 %\n",
            "R@5(img->txt): 2.6666666666666665 %\n",
            "R@10(img->txt): 4.333333333333333 %\n",
            "Median Rank(txt->img): 48.833333333333336 %\n",
            "R@1(txt->img): 0.3333333333333333 %\n",
            "R@5(txt->img): 2.6666666666666665 %\n",
            "R@10(txt->img): 4.666666666666667 %\n"
          ],
          "name": "stdout"
        }
      ]
    }
  ]
}